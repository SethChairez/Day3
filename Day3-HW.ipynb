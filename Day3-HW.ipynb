{
 "cells": [
  {
   "cell_type": "markdown",
   "id": "64d0f59c-8588-4f78-8bd5-078627729d92",
   "metadata": {},
   "source": [
    "## Introduction to Data Science\n",
    "\n",
    "#### University of Redlands - DATA 101\n",
    "#### Prof: Joanna Bieri [joanna_bieri@redlands.edu](mailto:joanna_bieri@redlands.edu)\n",
    "#### [Class Website: data101.joannabieri.com](https://joannabieri.com/data101.html)\n",
    "\n",
    "---------------------------------------\n",
    "# Homework Day 3\n",
    "---------------------------------------\n",
    "\n",
    "GOALS:\n",
    "\n",
    "1. Answer all the questions from the lecture.\n",
    "2. Practice making graphs with data.\n",
    "\n",
    "----------------------------------------------------------\n",
    "\n",
    "For this homework you will load the Star Wars data and practice making different kinds of plots!\n",
    "\n",
    "This homework has **8 questions** from the lecture and **2 Problems**"
   ]
  },
  {
   "cell_type": "code",
   "execution_count": 2,
   "id": "85d851b3-4123-484c-a51a-561490abcc68",
   "metadata": {},
   "outputs": [],
   "source": [
    "import pandas as pd\n",
    "\n",
    "import matplotlib.pyplot as plt\n",
    "import plotly.express as px\n",
    "from plotly.subplots import make_subplots\n",
    "import plotly.io as pio\n",
    "pio.renderers.default='colab'\n",
    "\n",
    "from itables import show"
   ]
  },
  {
   "cell_type": "code",
   "execution_count": 3,
   "id": "0d9997ae-4d12-48cc-8229-9ec76d59e9a5",
   "metadata": {},
   "outputs": [],
   "source": [
    "file_location = 'https://joannabieri.com/introdatascience/data/starwars.csv'\n",
    "DF = pd.read_csv(file_location)"
   ]
  },
  {
   "cell_type": "code",
   "execution_count": 4,
   "id": "5bd623a5-72ac-4f8b-96e3-1518e1e1f46c",
   "metadata": {},
   "outputs": [
    {
     "data": {
      "text/html": [
       "<table id=\"itables_c86c4952_108d_40bd_add1_063d802e8cfe\" class=\"display nowrap\" data-quarto-disable-processing=\"true\" style=\"table-layout:auto;width:auto;margin:auto;caption-side:bottom\">\n",
       "<thead>\n",
       "    <tr style=\"text-align: right;\">\n",
       "      \n",
       "      <th>name</th>\n",
       "      <th>height</th>\n",
       "      <th>mass</th>\n",
       "      <th>hair_color</th>\n",
       "      <th>skin_color</th>\n",
       "      <th>eye_color</th>\n",
       "      <th>birth_year</th>\n",
       "      <th>sex</th>\n",
       "      <th>gender</th>\n",
       "      <th>homeworld</th>\n",
       "      <th>species</th>\n",
       "      <th>films</th>\n",
       "      <th>vehicles</th>\n",
       "      <th>starships</th>\n",
       "    </tr>\n",
       "  </thead><tbody><tr>\n",
       "<td style=\"vertical-align:middle; text-align:left\">\n",
       "<div style=\"float:left; margin-right: 10px;\">\n",
       "<a href=https://mwouts.github.io/itables/><svg class=\"main-svg\" xmlns=\"http://www.w3.org/2000/svg\" xmlns:xlink=\"http://www.w3.org/1999/xlink\"\n",
       "width=\"64\" viewBox=\"0 0 500 400\" style=\"font-family: 'Droid Sans', sans-serif;\">\n",
       "    <g style=\"fill:#d9d7fc\">\n",
       "        <path d=\"M100,400H500V357H100Z\" />\n",
       "        <path d=\"M100,300H400V257H100Z\" />\n",
       "        <path d=\"M0,200H400V157H0Z\" />\n",
       "        <path d=\"M100,100H500V57H100Z\" />\n",
       "        <path d=\"M100,350H500V307H100Z\" />\n",
       "        <path d=\"M100,250H400V207H100Z\" />\n",
       "        <path d=\"M0,150H400V107H0Z\" />\n",
       "        <path d=\"M100,50H500V7H100Z\" />\n",
       "    </g>\n",
       "    <g style=\"fill:#1a1366;stroke:#1a1366;\">\n",
       "   <rect x=\"100\" y=\"7\" width=\"400\" height=\"43\">\n",
       "    <animate\n",
       "      attributeName=\"width\"\n",
       "      values=\"0;400;0\"\n",
       "      dur=\"5s\"\n",
       "      repeatCount=\"indefinite\" />\n",
       "      <animate\n",
       "      attributeName=\"x\"\n",
       "      values=\"100;100;500\"\n",
       "      dur=\"5s\"\n",
       "      repeatCount=\"indefinite\" />\n",
       "  </rect>\n",
       "        <rect x=\"0\" y=\"107\" width=\"400\" height=\"43\">\n",
       "    <animate\n",
       "      attributeName=\"width\"\n",
       "      values=\"0;400;0\"\n",
       "      dur=\"3.5s\"\n",
       "      repeatCount=\"indefinite\" />\n",
       "    <animate\n",
       "      attributeName=\"x\"\n",
       "      values=\"0;0;400\"\n",
       "      dur=\"3.5s\"\n",
       "      repeatCount=\"indefinite\" />\n",
       "  </rect>\n",
       "        <rect x=\"100\" y=\"207\" width=\"300\" height=\"43\">\n",
       "    <animate\n",
       "      attributeName=\"width\"\n",
       "      values=\"0;300;0\"\n",
       "      dur=\"3s\"\n",
       "      repeatCount=\"indefinite\" />\n",
       "    <animate\n",
       "      attributeName=\"x\"\n",
       "      values=\"100;100;400\"\n",
       "      dur=\"3s\"\n",
       "      repeatCount=\"indefinite\" />\n",
       "  </rect>\n",
       "        <rect x=\"100\" y=\"307\" width=\"400\" height=\"43\">\n",
       "    <animate\n",
       "      attributeName=\"width\"\n",
       "      values=\"0;400;0\"\n",
       "      dur=\"4s\"\n",
       "      repeatCount=\"indefinite\" />\n",
       "      <animate\n",
       "      attributeName=\"x\"\n",
       "      values=\"100;100;500\"\n",
       "      dur=\"4s\"\n",
       "      repeatCount=\"indefinite\" />\n",
       "  </rect>\n",
       "        <g style=\"fill:transparent;stroke-width:8; stroke-linejoin:round\" rx=\"5\">\n",
       "            <g transform=\"translate(45 50) rotate(-45)\">\n",
       "                <circle r=\"33\" cx=\"0\" cy=\"0\" />\n",
       "                <rect x=\"-8\" y=\"32\" width=\"16\" height=\"30\" />\n",
       "            </g>\n",
       "\n",
       "            <g transform=\"translate(450 152)\">\n",
       "                <polyline points=\"-15,-20 -35,-20 -35,40 25,40 25,20\" />\n",
       "                <rect x=\"-15\" y=\"-40\" width=\"60\" height=\"60\" />\n",
       "            </g>\n",
       "\n",
       "            <g transform=\"translate(50 352)\">\n",
       "                <polygon points=\"-35,-5 0,-40 35,-5\" />\n",
       "                <polygon points=\"-35,10 0,45 35,10\" />\n",
       "            </g>\n",
       "\n",
       "            <g transform=\"translate(75 250)\">\n",
       "                <polyline points=\"-30,30 -60,0 -30,-30\" />\n",
       "                <polyline points=\"0,30 -30,0 0,-30\" />\n",
       "            </g>\n",
       "\n",
       "            <g transform=\"translate(425 250) rotate(180)\">\n",
       "                <polyline points=\"-30,30 -60,0 -30,-30\" />\n",
       "                <polyline points=\"0,30 -30,0 0,-30\" />\n",
       "            </g>\n",
       "        </g>\n",
       "    </g>\n",
       "</svg>\n",
       "</a>\n",
       "</div>\n",
       "<div>\n",
       "Loading ITables v2.1.4 from the internet...\n",
       "(need <a href=https://mwouts.github.io/itables/troubleshooting.html>help</a>?)</td>\n",
       "</div>\n",
       "</tr></tbody>\n",
       "\n",
       "</table>\n",
       "<link href=\"https://www.unpkg.com/dt_for_itables@2.0.11/dt_bundle.css\" rel=\"stylesheet\">\n",
       "<script type=\"module\">\n",
       "    import {DataTable, jQuery as $} from 'https://www.unpkg.com/dt_for_itables@2.0.11/dt_bundle.js';\n",
       "\n",
       "    document.querySelectorAll(\"#itables_c86c4952_108d_40bd_add1_063d802e8cfe:not(.dataTable)\").forEach(table => {\n",
       "        // Define the table data\n",
       "        const data = [[\"Luke Skywalker\", 172.0, 77.0, \"blond\", \"fair\", \"blue\", 19.0, \"male\", \"masculine\", \"Tatooine\", \"Human\", \"A New Hope, The Empire Strikes Back, Return of the Jedi, Revenge of the Sith, The Force Awakens\", \"Snowspeeder, Imperial Speeder Bike\", \"X-wing, Imperial shuttle\"], [\"C-3PO\", 167.0, 75.0, \"NaN\", \"gold\", \"yellow\", 112.0, \"none\", \"masculine\", \"Tatooine\", \"Droid\", \"A New Hope, The Empire Strikes Back, Return of the Jedi, The Phantom Menace, Attack of the Clones, Revenge of the Sith\", \"NaN\", \"NaN\"], [\"R2-D2\", 96.0, 32.0, \"NaN\", \"white, blue\", \"red\", 33.0, \"none\", \"masculine\", \"Naboo\", \"Droid\", \"A New Hope, The Empire Strikes Back, Return of the Jedi, The Phantom Menace, Attack of the Clones, Revenge of the Sith, The Force Awakens\", \"NaN\", \"NaN\"], [\"Darth Vader\", 202.0, 136.0, \"none\", \"white\", \"yellow\", 41.9, \"male\", \"masculine\", \"Tatooine\", \"Human\", \"A New Hope, The Empire Strikes Back, Return of the Jedi, Revenge of the Sith\", \"NaN\", \"TIE Advanced x1\"], [\"Leia Organa\", 150.0, 49.0, \"brown\", \"light\", \"brown\", 19.0, \"female\", \"feminine\", \"Alderaan\", \"Human\", \"A New Hope, The Empire Strikes Back, Return of the Jedi, Revenge of the Sith, The Force Awakens\", \"Imperial Speeder Bike\", \"NaN\"], [\"Owen Lars\", 178.0, 120.0, \"brown, grey\", \"light\", \"blue\", 52.0, \"male\", \"masculine\", \"Tatooine\", \"Human\", \"A New Hope, Attack of the Clones, Revenge of the Sith\", \"NaN\", \"NaN\"], [\"Beru Whitesun Lars\", 165.0, 75.0, \"brown\", \"light\", \"blue\", 47.0, \"female\", \"feminine\", \"Tatooine\", \"Human\", \"A New Hope, Attack of the Clones, Revenge of the Sith\", \"NaN\", \"NaN\"], [\"R5-D4\", 97.0, 32.0, \"NaN\", \"white, red\", \"red\", NaN, \"none\", \"masculine\", \"Tatooine\", \"Droid\", \"A New Hope\", \"NaN\", \"NaN\"], [\"Biggs Darklighter\", 183.0, 84.0, \"black\", \"light\", \"brown\", 24.0, \"male\", \"masculine\", \"Tatooine\", \"Human\", \"A New Hope\", \"NaN\", \"X-wing\"], [\"Obi-Wan Kenobi\", 182.0, 77.0, \"auburn, white\", \"fair\", \"blue-gray\", 57.0, \"male\", \"masculine\", \"Stewjon\", \"Human\", \"A New Hope, The Empire Strikes Back, Return of the Jedi, The Phantom Menace, Attack of the Clones, Revenge of the Sith\", \"Tribubble bongo\", \"Jedi starfighter, Trade Federation cruiser, Naboo star skiff, Jedi Interceptor, Belbullab-22 starfighter\"], [\"Anakin Skywalker\", 188.0, 84.0, \"blond\", \"fair\", \"blue\", 41.9, \"male\", \"masculine\", \"Tatooine\", \"Human\", \"The Phantom Menace, Attack of the Clones, Revenge of the Sith\", \"Zephyr-G swoop bike, XJ-6 airspeeder\", \"Naboo fighter, Trade Federation cruiser, Jedi Interceptor\"], [\"Wilhuff Tarkin\", 180.0, NaN, \"auburn, grey\", \"fair\", \"blue\", 64.0, \"male\", \"masculine\", \"Eriadu\", \"Human\", \"A New Hope, Revenge of the Sith\", \"NaN\", \"NaN\"], [\"Chewbacca\", 228.0, 112.0, \"brown\", \"unknown\", \"blue\", 200.0, \"male\", \"masculine\", \"Kashyyyk\", \"Wookiee\", \"A New Hope, The Empire Strikes Back, Return of the Jedi, Revenge of the Sith, The Force Awakens\", \"AT-ST\", \"Millennium Falcon, Imperial shuttle\"], [\"Han Solo\", 180.0, 80.0, \"brown\", \"fair\", \"brown\", 29.0, \"male\", \"masculine\", \"Corellia\", \"Human\", \"A New Hope, The Empire Strikes Back, Return of the Jedi, The Force Awakens\", \"NaN\", \"Millennium Falcon, Imperial shuttle\"], [\"Greedo\", 173.0, 74.0, \"NaN\", \"green\", \"black\", 44.0, \"male\", \"masculine\", \"Rodia\", \"Rodian\", \"A New Hope\", \"NaN\", \"NaN\"], [\"Jabba Desilijic Tiure\", 175.0, 1358.0, \"NaN\", \"green-tan, brown\", \"orange\", 600.0, \"hermaphroditic\", \"masculine\", \"Nal Hutta\", \"Hutt\", \"A New Hope, Return of the Jedi, The Phantom Menace\", \"NaN\", \"NaN\"], [\"Wedge Antilles\", 170.0, 77.0, \"brown\", \"fair\", \"hazel\", 21.0, \"male\", \"masculine\", \"Corellia\", \"Human\", \"A New Hope, The Empire Strikes Back, Return of the Jedi\", \"Snowspeeder\", \"X-wing\"], [\"Jek Tono Porkins\", 180.0, 110.0, \"brown\", \"fair\", \"blue\", NaN, \"NaN\", \"NaN\", \"Bestine IV\", \"NaN\", \"A New Hope\", \"NaN\", \"X-wing\"], [\"Yoda\", 66.0, 17.0, \"white\", \"green\", \"brown\", 896.0, \"male\", \"masculine\", \"NaN\", \"Yoda's species\", \"The Empire Strikes Back, Return of the Jedi, The Phantom Menace, Attack of the Clones, Revenge of the Sith\", \"NaN\", \"NaN\"], [\"Palpatine\", 170.0, 75.0, \"grey\", \"pale\", \"yellow\", 82.0, \"male\", \"masculine\", \"Naboo\", \"Human\", \"The Empire Strikes Back, Return of the Jedi, The Phantom Menace, Attack of the Clones, Revenge of the Sith\", \"NaN\", \"NaN\"], [\"Boba Fett\", 183.0, 78.2, \"black\", \"fair\", \"brown\", 31.5, \"male\", \"masculine\", \"Kamino\", \"Human\", \"The Empire Strikes Back, Return of the Jedi, Attack of the Clones\", \"NaN\", \"Slave 1\"], [\"IG-88\", 200.0, 140.0, \"none\", \"metal\", \"red\", 15.0, \"none\", \"masculine\", \"NaN\", \"Droid\", \"The Empire Strikes Back\", \"NaN\", \"NaN\"], [\"Bossk\", 190.0, 113.0, \"none\", \"green\", \"red\", 53.0, \"male\", \"masculine\", \"Trandosha\", \"Trandoshan\", \"The Empire Strikes Back\", \"NaN\", \"NaN\"], [\"Lando Calrissian\", 177.0, 79.0, \"black\", \"dark\", \"brown\", 31.0, \"male\", \"masculine\", \"Socorro\", \"Human\", \"The Empire Strikes Back, Return of the Jedi\", \"NaN\", \"Millennium Falcon\"], [\"Lobot\", 175.0, 79.0, \"none\", \"light\", \"blue\", 37.0, \"male\", \"masculine\", \"Bespin\", \"Human\", \"The Empire Strikes Back\", \"NaN\", \"NaN\"], [\"Ackbar\", 180.0, 83.0, \"none\", \"brown mottle\", \"orange\", 41.0, \"male\", \"masculine\", \"Mon Cala\", \"Mon Calamari\", \"Return of the Jedi, The Force Awakens\", \"NaN\", \"NaN\"], [\"Mon Mothma\", 150.0, NaN, \"auburn\", \"fair\", \"blue\", 48.0, \"female\", \"feminine\", \"Chandrila\", \"Human\", \"Return of the Jedi\", \"NaN\", \"NaN\"], [\"Arvel Crynyd\", NaN, NaN, \"brown\", \"fair\", \"brown\", NaN, \"male\", \"masculine\", \"NaN\", \"Human\", \"Return of the Jedi\", \"NaN\", \"A-wing\"], [\"Wicket Systri Warrick\", 88.0, 20.0, \"brown\", \"brown\", \"brown\", 8.0, \"male\", \"masculine\", \"Endor\", \"Ewok\", \"Return of the Jedi\", \"NaN\", \"NaN\"], [\"Nien Nunb\", 160.0, 68.0, \"none\", \"grey\", \"black\", NaN, \"male\", \"masculine\", \"Sullust\", \"Sullustan\", \"Return of the Jedi\", \"NaN\", \"Millennium Falcon\"], [\"Qui-Gon Jinn\", 193.0, 89.0, \"brown\", \"fair\", \"blue\", 92.0, \"male\", \"masculine\", \"NaN\", \"Human\", \"The Phantom Menace\", \"Tribubble bongo\", \"NaN\"], [\"Nute Gunray\", 191.0, 90.0, \"none\", \"mottled green\", \"red\", NaN, \"male\", \"masculine\", \"Cato Neimoidia\", \"Neimodian\", \"The Phantom Menace, Attack of the Clones, Revenge of the Sith\", \"NaN\", \"NaN\"], [\"Finis Valorum\", 170.0, NaN, \"blond\", \"fair\", \"blue\", 91.0, \"male\", \"masculine\", \"Coruscant\", \"Human\", \"The Phantom Menace\", \"NaN\", \"NaN\"], [\"Padm\\u00e9 Amidala\", 185.0, 45.0, \"brown\", \"light\", \"brown\", 46.0, \"female\", \"feminine\", \"Naboo\", \"Human\", \"The Phantom Menace, Attack of the Clones, Revenge of the Sith\", \"NaN\", \"Naboo fighter, H-type Nubian yacht, Naboo star skiff\"], [\"Jar Jar Binks\", 196.0, 66.0, \"none\", \"orange\", \"orange\", 52.0, \"male\", \"masculine\", \"Naboo\", \"Gungan\", \"The Phantom Menace, Attack of the Clones\", \"NaN\", \"NaN\"], [\"Roos Tarpals\", 224.0, 82.0, \"none\", \"grey\", \"orange\", NaN, \"male\", \"masculine\", \"Naboo\", \"Gungan\", \"The Phantom Menace\", \"NaN\", \"NaN\"], [\"Rugor Nass\", 206.0, NaN, \"none\", \"green\", \"orange\", NaN, \"male\", \"masculine\", \"Naboo\", \"Gungan\", \"The Phantom Menace\", \"NaN\", \"NaN\"], [\"Ric Oli\\u00e9\", 183.0, NaN, \"brown\", \"fair\", \"blue\", NaN, \"male\", \"masculine\", \"Naboo\", \"Human\", \"The Phantom Menace\", \"NaN\", \"Naboo Royal Starship\"], [\"Watto\", 137.0, NaN, \"black\", \"blue, grey\", \"yellow\", NaN, \"male\", \"masculine\", \"Toydaria\", \"Toydarian\", \"The Phantom Menace, Attack of the Clones\", \"NaN\", \"NaN\"], [\"Sebulba\", 112.0, 40.0, \"none\", \"grey, red\", \"orange\", NaN, \"male\", \"masculine\", \"Malastare\", \"Dug\", \"The Phantom Menace\", \"NaN\", \"NaN\"], [\"Quarsh Panaka\", 183.0, NaN, \"black\", \"dark\", \"brown\", 62.0, \"male\", \"masculine\", \"Naboo\", \"Human\", \"The Phantom Menace\", \"NaN\", \"NaN\"], [\"Shmi Skywalker\", 163.0, NaN, \"black\", \"fair\", \"brown\", 72.0, \"female\", \"feminine\", \"Tatooine\", \"Human\", \"The Phantom Menace, Attack of the Clones\", \"NaN\", \"NaN\"], [\"Darth Maul\", 175.0, 80.0, \"none\", \"red\", \"yellow\", 54.0, \"male\", \"masculine\", \"Dathomir\", \"Zabrak\", \"The Phantom Menace\", \"Sith speeder\", \"Scimitar\"], [\"Bib Fortuna\", 180.0, NaN, \"none\", \"pale\", \"pink\", NaN, \"male\", \"masculine\", \"Ryloth\", \"Twi'lek\", \"Return of the Jedi\", \"NaN\", \"NaN\"], [\"Ayla Secura\", 178.0, 55.0, \"none\", \"blue\", \"hazel\", 48.0, \"female\", \"feminine\", \"Ryloth\", \"Twi'lek\", \"The Phantom Menace, Attack of the Clones, Revenge of the Sith\", \"NaN\", \"NaN\"], [\"Ratts Tyerel\", 79.0, 15.0, \"none\", \"grey, blue\", \"unknown\", NaN, \"male\", \"masculine\", \"Aleen Minor\", \"Aleena\", \"The Phantom Menace\", \"NaN\", \"NaN\"], [\"Dud Bolt\", 94.0, 45.0, \"none\", \"blue, grey\", \"yellow\", NaN, \"male\", \"masculine\", \"Vulpter\", \"Vulptereen\", \"The Phantom Menace\", \"NaN\", \"NaN\"], [\"Gasgano\", 122.0, NaN, \"none\", \"white, blue\", \"black\", NaN, \"male\", \"masculine\", \"Troiken\", \"Xexto\", \"The Phantom Menace\", \"NaN\", \"NaN\"], [\"Ben Quadinaros\", 163.0, 65.0, \"none\", \"grey, green, yellow\", \"orange\", NaN, \"male\", \"masculine\", \"Tund\", \"Toong\", \"The Phantom Menace\", \"NaN\", \"NaN\"], [\"Mace Windu\", 188.0, 84.0, \"none\", \"dark\", \"brown\", 72.0, \"male\", \"masculine\", \"Haruun Kal\", \"Human\", \"The Phantom Menace, Attack of the Clones, Revenge of the Sith\", \"NaN\", \"NaN\"], [\"Ki-Adi-Mundi\", 198.0, 82.0, \"white\", \"pale\", \"yellow\", 92.0, \"male\", \"masculine\", \"Cerea\", \"Cerean\", \"The Phantom Menace, Attack of the Clones, Revenge of the Sith\", \"NaN\", \"NaN\"], [\"Kit Fisto\", 196.0, 87.0, \"none\", \"green\", \"black\", NaN, \"male\", \"masculine\", \"Glee Anselm\", \"Nautolan\", \"The Phantom Menace, Attack of the Clones, Revenge of the Sith\", \"NaN\", \"NaN\"], [\"Eeth Koth\", 171.0, NaN, \"black\", \"brown\", \"brown\", NaN, \"male\", \"masculine\", \"Iridonia\", \"Zabrak\", \"The Phantom Menace, Revenge of the Sith\", \"NaN\", \"NaN\"], [\"Adi Gallia\", 184.0, 50.0, \"none\", \"dark\", \"blue\", NaN, \"female\", \"feminine\", \"Coruscant\", \"Tholothian\", \"The Phantom Menace, Revenge of the Sith\", \"NaN\", \"NaN\"], [\"Saesee Tiin\", 188.0, NaN, \"none\", \"pale\", \"orange\", NaN, \"male\", \"masculine\", \"Iktotch\", \"Iktotchi\", \"The Phantom Menace, Revenge of the Sith\", \"NaN\", \"NaN\"], [\"Yarael Poof\", 264.0, NaN, \"none\", \"white\", \"yellow\", NaN, \"male\", \"masculine\", \"Quermia\", \"Quermian\", \"The Phantom Menace\", \"NaN\", \"NaN\"], [\"Plo Koon\", 188.0, 80.0, \"none\", \"orange\", \"black\", 22.0, \"male\", \"masculine\", \"Dorin\", \"Kel Dor\", \"The Phantom Menace, Attack of the Clones, Revenge of the Sith\", \"NaN\", \"Jedi starfighter\"], [\"Mas Amedda\", 196.0, NaN, \"none\", \"blue\", \"blue\", NaN, \"male\", \"masculine\", \"Champala\", \"Chagrian\", \"The Phantom Menace, Attack of the Clones\", \"NaN\", \"NaN\"], [\"Gregar Typho\", 185.0, 85.0, \"black\", \"dark\", \"brown\", NaN, \"NaN\", \"NaN\", \"Naboo\", \"NaN\", \"Attack of the Clones\", \"NaN\", \"Naboo fighter\"], [\"Cord\\u00e9\", 157.0, NaN, \"brown\", \"light\", \"brown\", NaN, \"NaN\", \"NaN\", \"Naboo\", \"NaN\", \"Attack of the Clones\", \"NaN\", \"NaN\"], [\"Cliegg Lars\", 183.0, NaN, \"brown\", \"fair\", \"blue\", 82.0, \"male\", \"masculine\", \"Tatooine\", \"Human\", \"Attack of the Clones\", \"NaN\", \"NaN\"], [\"Poggle the Lesser\", 183.0, 80.0, \"none\", \"green\", \"yellow\", NaN, \"male\", \"masculine\", \"Geonosis\", \"Geonosian\", \"Attack of the Clones, Revenge of the Sith\", \"NaN\", \"NaN\"], [\"Luminara Unduli\", 170.0, 56.2, \"black\", \"yellow\", \"blue\", 58.0, \"female\", \"feminine\", \"Mirial\", \"Mirialan\", \"Attack of the Clones, Revenge of the Sith\", \"NaN\", \"NaN\"], [\"Barriss Offee\", 166.0, 50.0, \"black\", \"yellow\", \"blue\", 40.0, \"female\", \"feminine\", \"Mirial\", \"Mirialan\", \"Attack of the Clones\", \"NaN\", \"NaN\"], [\"Dorm\\u00e9\", 165.0, NaN, \"brown\", \"light\", \"brown\", NaN, \"female\", \"feminine\", \"Naboo\", \"Human\", \"Attack of the Clones\", \"NaN\", \"NaN\"], [\"Dooku\", 193.0, 80.0, \"white\", \"fair\", \"brown\", 102.0, \"male\", \"masculine\", \"Serenno\", \"Human\", \"Attack of the Clones, Revenge of the Sith\", \"Flitknot speeder\", \"NaN\"], [\"Bail Prestor Organa\", 191.0, NaN, \"black\", \"tan\", \"brown\", 67.0, \"male\", \"masculine\", \"Alderaan\", \"Human\", \"Attack of the Clones, Revenge of the Sith\", \"NaN\", \"NaN\"], [\"Jango Fett\", 183.0, 79.0, \"black\", \"tan\", \"brown\", 66.0, \"male\", \"masculine\", \"Concord Dawn\", \"Human\", \"Attack of the Clones\", \"NaN\", \"NaN\"], [\"Zam Wesell\", 168.0, 55.0, \"blonde\", \"fair, green, yellow\", \"yellow\", NaN, \"female\", \"feminine\", \"Zolan\", \"Clawdite\", \"Attack of the Clones\", \"Koro-2 Exodrive airspeeder\", \"NaN\"], [\"Dexter Jettster\", 198.0, 102.0, \"none\", \"brown\", \"yellow\", NaN, \"male\", \"masculine\", \"Ojom\", \"Besalisk\", \"Attack of the Clones\", \"NaN\", \"NaN\"], [\"Lama Su\", 229.0, 88.0, \"none\", \"grey\", \"black\", NaN, \"male\", \"masculine\", \"Kamino\", \"Kaminoan\", \"Attack of the Clones\", \"NaN\", \"NaN\"], [\"Taun We\", 213.0, NaN, \"none\", \"grey\", \"black\", NaN, \"female\", \"feminine\", \"Kamino\", \"Kaminoan\", \"Attack of the Clones\", \"NaN\", \"NaN\"], [\"Jocasta Nu\", 167.0, NaN, \"white\", \"fair\", \"blue\", NaN, \"female\", \"feminine\", \"Coruscant\", \"Human\", \"Attack of the Clones\", \"NaN\", \"NaN\"], [\"R4-P17\", 96.0, NaN, \"none\", \"silver, red\", \"red, blue\", NaN, \"none\", \"feminine\", \"NaN\", \"Droid\", \"Attack of the Clones, Revenge of the Sith\", \"NaN\", \"NaN\"], [\"Wat Tambor\", 193.0, 48.0, \"none\", \"green, grey\", \"unknown\", NaN, \"male\", \"masculine\", \"Skako\", \"Skakoan\", \"Attack of the Clones\", \"NaN\", \"NaN\"], [\"San Hill\", 191.0, NaN, \"none\", \"grey\", \"gold\", NaN, \"male\", \"masculine\", \"Muunilinst\", \"Muun\", \"Attack of the Clones\", \"NaN\", \"NaN\"], [\"Shaak Ti\", 178.0, 57.0, \"none\", \"red, blue, white\", \"black\", NaN, \"female\", \"feminine\", \"Shili\", \"Togruta\", \"Attack of the Clones, Revenge of the Sith\", \"NaN\", \"NaN\"], [\"Grievous\", 216.0, 159.0, \"none\", \"brown, white\", \"green, yellow\", NaN, \"male\", \"masculine\", \"Kalee\", \"Kaleesh\", \"Revenge of the Sith\", \"Tsmeu-6 personal wheel bike\", \"Belbullab-22 starfighter\"], [\"Tarfful\", 234.0, 136.0, \"brown\", \"brown\", \"blue\", NaN, \"male\", \"masculine\", \"Kashyyyk\", \"Wookiee\", \"Revenge of the Sith\", \"NaN\", \"NaN\"], [\"Raymus Antilles\", 188.0, 79.0, \"brown\", \"light\", \"brown\", NaN, \"male\", \"masculine\", \"Alderaan\", \"Human\", \"A New Hope, Revenge of the Sith\", \"NaN\", \"NaN\"], [\"Sly Moore\", 178.0, 48.0, \"none\", \"pale\", \"white\", NaN, \"NaN\", \"NaN\", \"Umbara\", \"NaN\", \"Attack of the Clones, Revenge of the Sith\", \"NaN\", \"NaN\"], [\"Tion Medon\", 206.0, 80.0, \"none\", \"grey\", \"black\", NaN, \"male\", \"masculine\", \"Utapau\", \"Pau'an\", \"Revenge of the Sith\", \"NaN\", \"NaN\"], [\"Finn\", NaN, NaN, \"black\", \"dark\", \"dark\", NaN, \"male\", \"masculine\", \"NaN\", \"Human\", \"The Force Awakens\", \"NaN\", \"NaN\"], [\"Rey\", NaN, NaN, \"brown\", \"light\", \"hazel\", NaN, \"female\", \"feminine\", \"NaN\", \"Human\", \"The Force Awakens\", \"NaN\", \"NaN\"], [\"Poe Dameron\", NaN, NaN, \"brown\", \"light\", \"brown\", NaN, \"male\", \"masculine\", \"NaN\", \"Human\", \"The Force Awakens\", \"NaN\", \"X-wing\"], [\"BB8\", NaN, NaN, \"none\", \"none\", \"black\", NaN, \"none\", \"masculine\", \"NaN\", \"Droid\", \"The Force Awakens\", \"NaN\", \"NaN\"], [\"Captain Phasma\", NaN, NaN, \"none\", \"none\", \"unknown\", NaN, \"female\", \"feminine\", \"NaN\", \"Human\", \"The Force Awakens\", \"NaN\", \"NaN\"]];\n",
       "\n",
       "        // Define the dt_args\n",
       "        let dt_args = {\"layout\": {\"topStart\": \"pageLength\", \"topEnd\": \"search\", \"bottomStart\": \"info\", \"bottomEnd\": \"paging\"}, \"order\": []};\n",
       "        dt_args[\"data\"] = data;\n",
       "\n",
       "        \n",
       "        new DataTable(table, dt_args);\n",
       "    });\n",
       "</script>\n"
      ],
      "text/plain": [
       "<IPython.core.display.HTML object>"
      ]
     },
     "metadata": {},
     "output_type": "display_data"
    }
   ],
   "source": [
    "show(DF)"
   ]
  },
  {
   "cell_type": "code",
   "execution_count": 5,
   "id": "b8ce2965-1253-4593-85c5-eb187fd2d028",
   "metadata": {},
   "outputs": [
    {
     "data": {
      "text/html": [
       "<div>\n",
       "<style scoped>\n",
       "    .dataframe tbody tr th:only-of-type {\n",
       "        vertical-align: middle;\n",
       "    }\n",
       "\n",
       "    .dataframe tbody tr th {\n",
       "        vertical-align: top;\n",
       "    }\n",
       "\n",
       "    .dataframe thead th {\n",
       "        text-align: right;\n",
       "    }\n",
       "</style>\n",
       "<table border=\"1\" class=\"dataframe\">\n",
       "  <thead>\n",
       "    <tr style=\"text-align: right;\">\n",
       "      <th></th>\n",
       "      <th>name</th>\n",
       "      <th>height</th>\n",
       "      <th>mass</th>\n",
       "      <th>hair_color</th>\n",
       "      <th>skin_color</th>\n",
       "      <th>eye_color</th>\n",
       "      <th>birth_year</th>\n",
       "      <th>sex</th>\n",
       "      <th>gender</th>\n",
       "      <th>homeworld</th>\n",
       "      <th>species</th>\n",
       "      <th>films</th>\n",
       "      <th>vehicles</th>\n",
       "      <th>starships</th>\n",
       "    </tr>\n",
       "  </thead>\n",
       "  <tbody>\n",
       "    <tr>\n",
       "      <th>0</th>\n",
       "      <td>Luke Skywalker</td>\n",
       "      <td>172.0</td>\n",
       "      <td>77.0</td>\n",
       "      <td>blond</td>\n",
       "      <td>fair</td>\n",
       "      <td>blue</td>\n",
       "      <td>19.0</td>\n",
       "      <td>male</td>\n",
       "      <td>masculine</td>\n",
       "      <td>Tatooine</td>\n",
       "      <td>Human</td>\n",
       "      <td>A New Hope, The Empire Strikes Back, Return of...</td>\n",
       "      <td>Snowspeeder, Imperial Speeder Bike</td>\n",
       "      <td>X-wing, Imperial shuttle</td>\n",
       "    </tr>\n",
       "  </tbody>\n",
       "</table>\n",
       "</div>"
      ],
      "text/plain": [
       "             name  height  mass hair_color skin_color eye_color  birth_year  \\\n",
       "0  Luke Skywalker   172.0  77.0      blond       fair      blue        19.0   \n",
       "\n",
       "    sex     gender homeworld species  \\\n",
       "0  male  masculine  Tatooine   Human   \n",
       "\n",
       "                                               films  \\\n",
       "0  A New Hope, The Empire Strikes Back, Return of...   \n",
       "\n",
       "                             vehicles                 starships  \n",
       "0  Snowspeeder, Imperial Speeder Bike  X-wing, Imperial shuttle  "
      ]
     },
     "execution_count": 5,
     "metadata": {},
     "output_type": "execute_result"
    }
   ],
   "source": [
    "observation_name = 'Luke Skywalker'\n",
    "# Select just the row where the name equals Like Skywalker\n",
    "DF[DF['name']==observation_name]"
   ]
  },
  {
   "cell_type": "markdown",
   "id": "c048f99a-1aa0-4746-a163-9ce27a746a55",
   "metadata": {},
   "source": [
    "**Q1** How would you update the cell above to search for a different character? Make a change to the code above to find information about C-3PO."
   ]
  },
  {
   "cell_type": "code",
   "execution_count": 7,
   "id": "26747497-aee3-4c19-bd39-fbcadae31504",
   "metadata": {},
   "outputs": [
    {
     "data": {
      "text/html": [
       "<div>\n",
       "<style scoped>\n",
       "    .dataframe tbody tr th:only-of-type {\n",
       "        vertical-align: middle;\n",
       "    }\n",
       "\n",
       "    .dataframe tbody tr th {\n",
       "        vertical-align: top;\n",
       "    }\n",
       "\n",
       "    .dataframe thead th {\n",
       "        text-align: right;\n",
       "    }\n",
       "</style>\n",
       "<table border=\"1\" class=\"dataframe\">\n",
       "  <thead>\n",
       "    <tr style=\"text-align: right;\">\n",
       "      <th></th>\n",
       "      <th>name</th>\n",
       "      <th>height</th>\n",
       "      <th>mass</th>\n",
       "      <th>hair_color</th>\n",
       "      <th>skin_color</th>\n",
       "      <th>eye_color</th>\n",
       "      <th>birth_year</th>\n",
       "      <th>sex</th>\n",
       "      <th>gender</th>\n",
       "      <th>homeworld</th>\n",
       "      <th>species</th>\n",
       "      <th>films</th>\n",
       "      <th>vehicles</th>\n",
       "      <th>starships</th>\n",
       "    </tr>\n",
       "  </thead>\n",
       "  <tbody>\n",
       "    <tr>\n",
       "      <th>1</th>\n",
       "      <td>C-3PO</td>\n",
       "      <td>167.0</td>\n",
       "      <td>75.0</td>\n",
       "      <td>NaN</td>\n",
       "      <td>gold</td>\n",
       "      <td>yellow</td>\n",
       "      <td>112.0</td>\n",
       "      <td>none</td>\n",
       "      <td>masculine</td>\n",
       "      <td>Tatooine</td>\n",
       "      <td>Droid</td>\n",
       "      <td>A New Hope, The Empire Strikes Back, Return of...</td>\n",
       "      <td>NaN</td>\n",
       "      <td>NaN</td>\n",
       "    </tr>\n",
       "  </tbody>\n",
       "</table>\n",
       "</div>"
      ],
      "text/plain": [
       "    name  height  mass hair_color skin_color eye_color  birth_year   sex  \\\n",
       "1  C-3PO   167.0  75.0        NaN       gold    yellow       112.0  none   \n",
       "\n",
       "      gender homeworld species  \\\n",
       "1  masculine  Tatooine   Droid   \n",
       "\n",
       "                                               films vehicles starships  \n",
       "1  A New Hope, The Empire Strikes Back, Return of...      NaN       NaN  "
      ]
     },
     "execution_count": 7,
     "metadata": {},
     "output_type": "execute_result"
    }
   ],
   "source": [
    "observation_name = 'C-3PO'\n",
    "# Select just the row where the name equals Like Skywalker\n",
    "DF[DF['name']==observation_name]"
   ]
  },
  {
   "cell_type": "markdown",
   "id": "dc718850-25a9-45eb-8c24-a993782747fb",
   "metadata": {},
   "source": [
    "**Q2** In the data for C-3PO one of the entries says NaN. What does this mean?"
   ]
  },
  {
   "cell_type": "code",
   "execution_count": 9,
   "id": "dc37fa92-267d-4b92-a30c-d2bd60517eed",
   "metadata": {
    "scrolled": true
   },
   "outputs": [
    {
     "ename": "SyntaxError",
     "evalue": "invalid syntax (2903666242.py, line 2)",
     "output_type": "error",
     "traceback": [
      "\u001b[0;36m  Cell \u001b[0;32mIn[9], line 2\u001b[0;36m\u001b[0m\n\u001b[0;31m    It means not a number. This means that there is not a number to fill\u001b[0m\n\u001b[0m       ^\u001b[0m\n\u001b[0;31mSyntaxError\u001b[0m\u001b[0;31m:\u001b[0m invalid syntax\n"
     ]
    }
   ],
   "source": [
    "# Your code here:\n",
    "It means not a number. This means that there is not a number to fill \n",
    "spot in this columun of data. "
   ]
  },
  {
   "cell_type": "markdown",
   "id": "8ec6d294-4f57-408f-bcd2-273d252ee757",
   "metadata": {},
   "source": [
    "**Q3** Look at some observations for other characters. Just choose a few different names and see what their data says."
   ]
  },
  {
   "cell_type": "code",
   "execution_count": null,
   "id": "75b788ec-3580-45ac-a08b-05e0fb1dc678",
   "metadata": {},
   "outputs": [],
   "source": [
    "# Your code here - or you can just rerun the code cell above.\n",
    "observation_name = 'Darth Vader'\n",
    "# Select just the row where the name equals Like Skywalker\n",
    "DF[DF['name']==observation_name]"
   ]
  },
  {
   "cell_type": "markdown",
   "id": "1cc4bd94-18db-4006-8e15-75cb1caf711e",
   "metadata": {},
   "source": [
    "**Q4** What happens if you spell a name wrong or forget to capitalize?"
   ]
  },
  {
   "cell_type": "markdown",
   "id": "0f448205-202b-4131-98cb-de6c37100667",
   "metadata": {},
   "source": [
    "The code is unable to unrun. "
   ]
  },
  {
   "cell_type": "markdown",
   "id": "bd8255c0-9d90-402e-9017-64a382e2b5be",
   "metadata": {},
   "source": [
    "**Q5** Check out each of the variables (columns):\n",
    "\n",
    "1. What does each column tell you?\n",
    "2. Is the data a word or a number or something else?\n",
    "3. If the data is a number, what are the units?\n",
    "\n",
    "-----------------------------------------"
   ]
  },
  {
   "cell_type": "markdown",
   "id": "88a25285-8c62-48c4-8ef4-3031b97c93a9",
   "metadata": {},
   "source": [
    "1. Each column gives data about each of the individual characters. This ranges from their height, body weight,to hair color, and gender.\n",
    "2. The data for each character is a number or a word. The words describe hair color, skin color, eye color, sex, gender, homeworld, and species. The numbers represent height,mass, and birth year.  \n",
    "3. The units are height and mass. "
   ]
  },
  {
   "cell_type": "markdown",
   "id": "08f9ffc9-e880-448b-bc5f-30d7c7f973d0",
   "metadata": {},
   "source": [
    "### Exploratory Data Analysis (EDA)\n",
    "\n",
    "1. Summary Statistics\n",
    "2. Visualization (Today's Class)\n",
    "3. Data Wrangling (Future Class)\n",
    "\n",
    "#### Graph Mass vs. Height\n"
   ]
  },
  {
   "cell_type": "code",
   "execution_count": null,
   "id": "6a2d9c12-6ba9-4c3a-bc6a-1971c01c263b",
   "metadata": {
    "scrolled": true
   },
   "outputs": [],
   "source": [
    "fig = px.scatter(DF,\n",
    "                 x='height',\n",
    "                 y='mass',\n",
    "                 title='Mass vs. Height of Starwars Characters')\n",
    "fig.show()"
   ]
  },
  {
   "cell_type": "markdown",
   "id": "69e2e95d-f2b6-478a-8abf-199182396a99",
   "metadata": {},
   "source": [
    "**Q6** What do you notice about this graph? Are there any strange data points?"
   ]
  },
  {
   "cell_type": "markdown",
   "id": "eaa97e0d-0691-40f3-9cde-d1acd4536efa",
   "metadata": {},
   "source": [
    "Yes, there is one outliter in the data. Its height is 175cm and has a weight of 1358 pounds. This outliter is Jabba the hutt. "
   ]
  },
  {
   "cell_type": "code",
   "execution_count": null,
   "id": "40945f6e-1a32-4c95-9a56-686a09db83f2",
   "metadata": {},
   "outputs": [],
   "source": [
    "#Let's add some data so when we hover over the point we can see the characters name:\n",
    "fig = px.scatter(DF,\n",
    "                 x='height',\n",
    "                 y='mass',\n",
    "                 title='Mass vs. Height of Starwars Characters.',\n",
    "                 hover_data='name')\n",
    "fig.show()"
   ]
  },
  {
   "cell_type": "markdown",
   "id": "4e1fc345-9c53-4fd9-8c85-20aacb27eb28",
   "metadata": {},
   "source": [
    "#### You try birth_year vs mass\n",
    "\n",
    "**Q7** See if you can figure out how to make a plot of the birth_year vs mass with the hover data being the name?"
   ]
  },
  {
   "cell_type": "code",
   "execution_count": null,
   "id": "8c796598-5da7-454b-b1c8-f0d7342aae70",
   "metadata": {},
   "outputs": [],
   "source": [
    "# Your code here:\n",
    "fig = px.scatter(DF,\n",
    "                 x='birth_year',\n",
    "                 y='mass',\n",
    "                 title='Mass vs. Height of Starwars Characters.',\n",
    "                 hover_data='name')   \n",
    "fig.show()"
   ]
  },
  {
   "cell_type": "markdown",
   "id": "0548a2d8-0708-4b97-8150-f3be3f1f0f6d",
   "metadata": {},
   "source": [
    "---------------------------\n",
    "--------------------------\n",
    "\n",
    "## Why Visualize?!?!\n",
    "\n",
    "Load the data for Anscombe's Quartet"
   ]
  },
  {
   "cell_type": "code",
   "execution_count": null,
   "id": "b9bc6271-6f86-4a1c-8e72-447da749a226",
   "metadata": {},
   "outputs": [],
   "source": [
    "# Load the data\n",
    "#| label: Download data\n",
    "#| warning: false\n",
    "\n",
    "file_location = 'https://joannabieri.com/introdatascience/data/Anscombe_quartet_data.csv'\n",
    "DF_new = pd.read_csv(file_location)\n",
    "\n",
    "# Some code to make the data frame look nicer\n",
    "DF_new = DF_new.drop(['x4'], axis=1)\n",
    "DF_new.rename(columns={'x123':'x'}, inplace=True)"
   ]
  },
  {
   "cell_type": "code",
   "execution_count": null,
   "id": "ba7e5222-17ca-4963-8d9a-13c65afdacef",
   "metadata": {},
   "outputs": [],
   "source": [
    "show(DF_new)"
   ]
  },
  {
   "cell_type": "markdown",
   "id": "23bdb68f-b1f3-4a37-8ac9-7c04bfeaddf1",
   "metadata": {},
   "source": [
    "#### Summary Statistics\n",
    "\n",
    "Pandas can do all sorts of statistics for us really quickly using the .describe() function!"
   ]
  },
  {
   "cell_type": "code",
   "execution_count": null,
   "id": "fb0a1b3b-7b5f-4dc4-82d5-8d747ff5fbff",
   "metadata": {},
   "outputs": [],
   "source": [
    "DF_new.describe()"
   ]
  },
  {
   "cell_type": "markdown",
   "id": "76a59090-a87f-4684-a2f3-020712926be9",
   "metadata": {},
   "source": [
    "#### Visualization\n",
    "\n",
    "Make a scatter plot for each of the y-values. Here is the first one:"
   ]
  },
  {
   "cell_type": "code",
   "execution_count": null,
   "id": "45f2d0eb-2144-41d9-81b9-2f21c2b8f66e",
   "metadata": {},
   "outputs": [],
   "source": [
    "fig = px.scatter(DF_new,x='x',y='y1',title='x vs y1')\n",
    "fig.show()"
   ]
  },
  {
   "cell_type": "markdown",
   "id": "31da2430-beba-43f4-8443-336201ed777b",
   "metadata": {},
   "source": [
    "**Q8** Now you make the other three plots! What do you notice? Are they all the same?"
   ]
  },
  {
   "cell_type": "code",
   "execution_count": null,
   "id": "06399ea8-da0c-47ce-a945-6b5448c66933",
   "metadata": {},
   "outputs": [],
   "source": [
    "# Your code here:\n",
    "fig = px.scatter(DF_new, x =\"y1\", y=\"y2\", title= \"y1 vs y2\")\n",
    "fig.show()\n",
    "\n"
   ]
  },
  {
   "cell_type": "code",
   "execution_count": null,
   "id": "97f1144f-71a4-470d-8baa-6eec5531088c",
   "metadata": {},
   "outputs": [],
   "source": [
    "# Your code here:\n",
    "fig = px.scatter(DF_new, x =\"y2\", y=\"y3\", title= \"y2 vs y3\")\n",
    "fig.show()"
   ]
  },
  {
   "cell_type": "code",
   "execution_count": null,
   "id": "5246cc9e-a2e2-4b08-bcb5-8606a55de6cc",
   "metadata": {},
   "outputs": [],
   "source": [
    "# Your code here:\n",
    "fig = px.scatter(DF_new, x =\"y3\", y=\"y4\", title= \"y3 vs y4\")\n",
    "fig.show()"
   ]
  },
  {
   "cell_type": "markdown",
   "id": "e7d3cdce-d876-43ea-ba33-8c58479a4623",
   "metadata": {},
   "source": [
    "All of the scatter plots contrast in the points plotted. In the plot \" y1 vs y2\" the plots are widely scattered and do not follow any specific pattern. In \"y2 vs y3\" the plots begin in following a linear direction and end in a sort of curve. In the final scatter plot \"y3 vs y4\" the plots are diversely scattered and do not follow any pattern.   "
   ]
  },
  {
   "cell_type": "markdown",
   "id": "95998a5e-8f7b-442c-bfe4-9281e4b01fe3",
   "metadata": {},
   "source": [
    "### Problem 1\n",
    "\n",
    "Let's try to make an even fancier graph of the Star Wars heigh vs mass data. \n",
    "\n",
    "Below you will find code that changes our Star Wars graph in the following ways:\n",
    "\n",
    "1. It changes the marker size to 15\n",
    "2. It changes the marker color to red\n",
    "3. It changes the marker symbol to be a star\n",
    "4. It makes the markers see through (opacity)\n",
    "5. It puts a line around the marker with a width and color given.\n",
    "\n",
    "Now your job is to make this plot your own. Change the colors, markers, etc.\n",
    "\n",
    "Below you will see a list of all possible colors and markers that are automatically part of plotly."
   ]
  },
  {
   "cell_type": "code",
   "execution_count": null,
   "id": "079045c1-84fe-4412-b273-db55e441790f",
   "metadata": {},
   "outputs": [],
   "source": [
    "fig = px.scatter(DF,\n",
    "                 x='height',\n",
    "                 y='mass',\n",
    "                 title='Mass vs. Height of Starwars Characters.',\n",
    "                 hover_data='name')\n",
    "fig.update_traces(marker={'size': 13,\n",
    "                          'color' : 'darkcyan', \n",
    "                          'symbol' : 'square',\n",
    "                          'opacity' : 1,\n",
    "                          'line':{'width':1,'color':'DarkSlateGrey'}})\n",
    "fig.show()"
   ]
  },
  {
   "cell_type": "markdown",
   "id": "b9fea077-a50f-4ef0-b61f-7a7443e719b6",
   "metadata": {},
   "source": [
    "![Plotly Available Colors](images/colors.png)\n",
    "\n",
    "![Plotly Available Symbols](images/symbols.png)"
   ]
  },
  {
   "cell_type": "markdown",
   "id": "85734f55-c856-41bc-8279-fdf7057df538",
   "metadata": {},
   "source": [
    "### Problem 2\n",
    "\n",
    "Interacting with new types of plots! Over the course of the semester we will learn how to make all sorts of fancy plots. Below is code that makes a histogram of the different hair colors for the Star Wars characters. \n",
    "\n",
    "A. Figure out what the code does.\n",
    "\n",
    "B. Change the code:\n",
    "* New variable (x)\n",
    "* New color\n",
    "* New Title"
   ]
  },
  {
   "cell_type": "code",
   "execution_count": 13,
   "id": "f7377484-3bce-4632-86cd-a48692a37684",
   "metadata": {},
   "outputs": [
    {
     "data": {
      "text/html": [
       "<html>\n",
       "<head><meta charset=\"utf-8\" /></head>\n",
       "<body>\n",
       "    <div>            <script src=\"https://cdnjs.cloudflare.com/ajax/libs/mathjax/2.7.5/MathJax.js?config=TeX-AMS-MML_SVG\"></script><script type=\"text/javascript\">if (window.MathJax && window.MathJax.Hub && window.MathJax.Hub.Config) {window.MathJax.Hub.Config({SVG: {font: \"STIX-Web\"}});}</script>                <script type=\"text/javascript\">window.PlotlyConfig = {MathJaxConfig: 'local'};</script>\n",
       "        <script charset=\"utf-8\" src=\"https://cdn.plot.ly/plotly-2.35.0.min.js\"></script>                <div id=\"d9a2dc58-2d42-44c4-8460-b86b4fc39059\" class=\"plotly-graph-div\" style=\"height:525px; width:100%;\"></div>            <script type=\"text/javascript\">                                    window.PLOTLYENV=window.PLOTLYENV || {};                                    if (document.getElementById(\"d9a2dc58-2d42-44c4-8460-b86b4fc39059\")) {                    Plotly.newPlot(                        \"d9a2dc58-2d42-44c4-8460-b86b4fc39059\",                        [{\"alignmentgroup\":\"True\",\"bingroup\":\"x\",\"hovertemplate\":\"Hair Color=%{x}\\u003cbr\\u003ecount=%{y}\\u003cextra\\u003e\\u003c\\u002fextra\\u003e\",\"legendgroup\":\"\",\"marker\":{\"color\":\"lightseagreen\",\"opacity\":0.8,\"pattern\":{\"shape\":\"\"}},\"name\":\"\",\"offsetgroup\":\"\",\"orientation\":\"v\",\"showlegend\":false,\"x\":[\"blond\",null,null,\"none\",\"brown\",\"brown, grey\",\"brown\",null,\"black\",\"auburn, white\",\"blond\",\"auburn, grey\",\"brown\",\"brown\",null,null,\"brown\",\"brown\",\"white\",\"grey\",\"black\",\"none\",\"none\",\"black\",\"none\",\"none\",\"auburn\",\"brown\",\"brown\",\"none\",\"brown\",\"none\",\"blond\",\"brown\",\"none\",\"none\",\"none\",\"brown\",\"black\",\"none\",\"black\",\"black\",\"none\",\"none\",\"none\",\"none\",\"none\",\"none\",\"none\",\"none\",\"white\",\"none\",\"black\",\"none\",\"none\",\"none\",\"none\",\"none\",\"black\",\"brown\",\"brown\",\"none\",\"black\",\"black\",\"brown\",\"white\",\"black\",\"black\",\"blonde\",\"none\",\"none\",\"none\",\"white\",\"none\",\"none\",\"none\",\"none\",\"none\",\"brown\",\"brown\",\"none\",\"none\",\"black\",\"brown\",\"brown\",\"none\",\"none\"],\"xaxis\":\"x\",\"yaxis\":\"y\",\"type\":\"histogram\"}],                        {\"template\":{\"data\":{\"histogram2dcontour\":[{\"type\":\"histogram2dcontour\",\"colorbar\":{\"outlinewidth\":0,\"ticks\":\"\"},\"colorscale\":[[0.0,\"#0d0887\"],[0.1111111111111111,\"#46039f\"],[0.2222222222222222,\"#7201a8\"],[0.3333333333333333,\"#9c179e\"],[0.4444444444444444,\"#bd3786\"],[0.5555555555555556,\"#d8576b\"],[0.6666666666666666,\"#ed7953\"],[0.7777777777777778,\"#fb9f3a\"],[0.8888888888888888,\"#fdca26\"],[1.0,\"#f0f921\"]]}],\"choropleth\":[{\"type\":\"choropleth\",\"colorbar\":{\"outlinewidth\":0,\"ticks\":\"\"}}],\"histogram2d\":[{\"type\":\"histogram2d\",\"colorbar\":{\"outlinewidth\":0,\"ticks\":\"\"},\"colorscale\":[[0.0,\"#0d0887\"],[0.1111111111111111,\"#46039f\"],[0.2222222222222222,\"#7201a8\"],[0.3333333333333333,\"#9c179e\"],[0.4444444444444444,\"#bd3786\"],[0.5555555555555556,\"#d8576b\"],[0.6666666666666666,\"#ed7953\"],[0.7777777777777778,\"#fb9f3a\"],[0.8888888888888888,\"#fdca26\"],[1.0,\"#f0f921\"]]}],\"heatmap\":[{\"type\":\"heatmap\",\"colorbar\":{\"outlinewidth\":0,\"ticks\":\"\"},\"colorscale\":[[0.0,\"#0d0887\"],[0.1111111111111111,\"#46039f\"],[0.2222222222222222,\"#7201a8\"],[0.3333333333333333,\"#9c179e\"],[0.4444444444444444,\"#bd3786\"],[0.5555555555555556,\"#d8576b\"],[0.6666666666666666,\"#ed7953\"],[0.7777777777777778,\"#fb9f3a\"],[0.8888888888888888,\"#fdca26\"],[1.0,\"#f0f921\"]]}],\"heatmapgl\":[{\"type\":\"heatmapgl\",\"colorbar\":{\"outlinewidth\":0,\"ticks\":\"\"},\"colorscale\":[[0.0,\"#0d0887\"],[0.1111111111111111,\"#46039f\"],[0.2222222222222222,\"#7201a8\"],[0.3333333333333333,\"#9c179e\"],[0.4444444444444444,\"#bd3786\"],[0.5555555555555556,\"#d8576b\"],[0.6666666666666666,\"#ed7953\"],[0.7777777777777778,\"#fb9f3a\"],[0.8888888888888888,\"#fdca26\"],[1.0,\"#f0f921\"]]}],\"contourcarpet\":[{\"type\":\"contourcarpet\",\"colorbar\":{\"outlinewidth\":0,\"ticks\":\"\"}}],\"contour\":[{\"type\":\"contour\",\"colorbar\":{\"outlinewidth\":0,\"ticks\":\"\"},\"colorscale\":[[0.0,\"#0d0887\"],[0.1111111111111111,\"#46039f\"],[0.2222222222222222,\"#7201a8\"],[0.3333333333333333,\"#9c179e\"],[0.4444444444444444,\"#bd3786\"],[0.5555555555555556,\"#d8576b\"],[0.6666666666666666,\"#ed7953\"],[0.7777777777777778,\"#fb9f3a\"],[0.8888888888888888,\"#fdca26\"],[1.0,\"#f0f921\"]]}],\"surface\":[{\"type\":\"surface\",\"colorbar\":{\"outlinewidth\":0,\"ticks\":\"\"},\"colorscale\":[[0.0,\"#0d0887\"],[0.1111111111111111,\"#46039f\"],[0.2222222222222222,\"#7201a8\"],[0.3333333333333333,\"#9c179e\"],[0.4444444444444444,\"#bd3786\"],[0.5555555555555556,\"#d8576b\"],[0.6666666666666666,\"#ed7953\"],[0.7777777777777778,\"#fb9f3a\"],[0.8888888888888888,\"#fdca26\"],[1.0,\"#f0f921\"]]}],\"mesh3d\":[{\"type\":\"mesh3d\",\"colorbar\":{\"outlinewidth\":0,\"ticks\":\"\"}}],\"scatter\":[{\"fillpattern\":{\"fillmode\":\"overlay\",\"size\":10,\"solidity\":0.2},\"type\":\"scatter\"}],\"parcoords\":[{\"type\":\"parcoords\",\"line\":{\"colorbar\":{\"outlinewidth\":0,\"ticks\":\"\"}}}],\"scatterpolargl\":[{\"type\":\"scatterpolargl\",\"marker\":{\"colorbar\":{\"outlinewidth\":0,\"ticks\":\"\"}}}],\"bar\":[{\"error_x\":{\"color\":\"#2a3f5f\"},\"error_y\":{\"color\":\"#2a3f5f\"},\"marker\":{\"line\":{\"color\":\"#E5ECF6\",\"width\":0.5},\"pattern\":{\"fillmode\":\"overlay\",\"size\":10,\"solidity\":0.2}},\"type\":\"bar\"}],\"scattergeo\":[{\"type\":\"scattergeo\",\"marker\":{\"colorbar\":{\"outlinewidth\":0,\"ticks\":\"\"}}}],\"scatterpolar\":[{\"type\":\"scatterpolar\",\"marker\":{\"colorbar\":{\"outlinewidth\":0,\"ticks\":\"\"}}}],\"histogram\":[{\"marker\":{\"pattern\":{\"fillmode\":\"overlay\",\"size\":10,\"solidity\":0.2}},\"type\":\"histogram\"}],\"scattergl\":[{\"type\":\"scattergl\",\"marker\":{\"colorbar\":{\"outlinewidth\":0,\"ticks\":\"\"}}}],\"scatter3d\":[{\"type\":\"scatter3d\",\"line\":{\"colorbar\":{\"outlinewidth\":0,\"ticks\":\"\"}},\"marker\":{\"colorbar\":{\"outlinewidth\":0,\"ticks\":\"\"}}}],\"scattermapbox\":[{\"type\":\"scattermapbox\",\"marker\":{\"colorbar\":{\"outlinewidth\":0,\"ticks\":\"\"}}}],\"scatterternary\":[{\"type\":\"scatterternary\",\"marker\":{\"colorbar\":{\"outlinewidth\":0,\"ticks\":\"\"}}}],\"scattercarpet\":[{\"type\":\"scattercarpet\",\"marker\":{\"colorbar\":{\"outlinewidth\":0,\"ticks\":\"\"}}}],\"carpet\":[{\"aaxis\":{\"endlinecolor\":\"#2a3f5f\",\"gridcolor\":\"white\",\"linecolor\":\"white\",\"minorgridcolor\":\"white\",\"startlinecolor\":\"#2a3f5f\"},\"baxis\":{\"endlinecolor\":\"#2a3f5f\",\"gridcolor\":\"white\",\"linecolor\":\"white\",\"minorgridcolor\":\"white\",\"startlinecolor\":\"#2a3f5f\"},\"type\":\"carpet\"}],\"table\":[{\"cells\":{\"fill\":{\"color\":\"#EBF0F8\"},\"line\":{\"color\":\"white\"}},\"header\":{\"fill\":{\"color\":\"#C8D4E3\"},\"line\":{\"color\":\"white\"}},\"type\":\"table\"}],\"barpolar\":[{\"marker\":{\"line\":{\"color\":\"#E5ECF6\",\"width\":0.5},\"pattern\":{\"fillmode\":\"overlay\",\"size\":10,\"solidity\":0.2}},\"type\":\"barpolar\"}],\"pie\":[{\"automargin\":true,\"type\":\"pie\"}]},\"layout\":{\"autotypenumbers\":\"strict\",\"colorway\":[\"#636efa\",\"#EF553B\",\"#00cc96\",\"#ab63fa\",\"#FFA15A\",\"#19d3f3\",\"#FF6692\",\"#B6E880\",\"#FF97FF\",\"#FECB52\"],\"font\":{\"color\":\"#2a3f5f\"},\"hovermode\":\"closest\",\"hoverlabel\":{\"align\":\"left\"},\"paper_bgcolor\":\"white\",\"plot_bgcolor\":\"#E5ECF6\",\"polar\":{\"bgcolor\":\"#E5ECF6\",\"angularaxis\":{\"gridcolor\":\"white\",\"linecolor\":\"white\",\"ticks\":\"\"},\"radialaxis\":{\"gridcolor\":\"white\",\"linecolor\":\"white\",\"ticks\":\"\"}},\"ternary\":{\"bgcolor\":\"#E5ECF6\",\"aaxis\":{\"gridcolor\":\"white\",\"linecolor\":\"white\",\"ticks\":\"\"},\"baxis\":{\"gridcolor\":\"white\",\"linecolor\":\"white\",\"ticks\":\"\"},\"caxis\":{\"gridcolor\":\"white\",\"linecolor\":\"white\",\"ticks\":\"\"}},\"coloraxis\":{\"colorbar\":{\"outlinewidth\":0,\"ticks\":\"\"}},\"colorscale\":{\"sequential\":[[0.0,\"#0d0887\"],[0.1111111111111111,\"#46039f\"],[0.2222222222222222,\"#7201a8\"],[0.3333333333333333,\"#9c179e\"],[0.4444444444444444,\"#bd3786\"],[0.5555555555555556,\"#d8576b\"],[0.6666666666666666,\"#ed7953\"],[0.7777777777777778,\"#fb9f3a\"],[0.8888888888888888,\"#fdca26\"],[1.0,\"#f0f921\"]],\"sequentialminus\":[[0.0,\"#0d0887\"],[0.1111111111111111,\"#46039f\"],[0.2222222222222222,\"#7201a8\"],[0.3333333333333333,\"#9c179e\"],[0.4444444444444444,\"#bd3786\"],[0.5555555555555556,\"#d8576b\"],[0.6666666666666666,\"#ed7953\"],[0.7777777777777778,\"#fb9f3a\"],[0.8888888888888888,\"#fdca26\"],[1.0,\"#f0f921\"]],\"diverging\":[[0,\"#8e0152\"],[0.1,\"#c51b7d\"],[0.2,\"#de77ae\"],[0.3,\"#f1b6da\"],[0.4,\"#fde0ef\"],[0.5,\"#f7f7f7\"],[0.6,\"#e6f5d0\"],[0.7,\"#b8e186\"],[0.8,\"#7fbc41\"],[0.9,\"#4d9221\"],[1,\"#276419\"]]},\"xaxis\":{\"gridcolor\":\"white\",\"linecolor\":\"white\",\"ticks\":\"\",\"title\":{\"standoff\":15},\"zerolinecolor\":\"white\",\"automargin\":true,\"zerolinewidth\":2},\"yaxis\":{\"gridcolor\":\"white\",\"linecolor\":\"white\",\"ticks\":\"\",\"title\":{\"standoff\":15},\"zerolinecolor\":\"white\",\"automargin\":true,\"zerolinewidth\":2},\"scene\":{\"xaxis\":{\"backgroundcolor\":\"#E5ECF6\",\"gridcolor\":\"white\",\"linecolor\":\"white\",\"showbackground\":true,\"ticks\":\"\",\"zerolinecolor\":\"white\",\"gridwidth\":2},\"yaxis\":{\"backgroundcolor\":\"#E5ECF6\",\"gridcolor\":\"white\",\"linecolor\":\"white\",\"showbackground\":true,\"ticks\":\"\",\"zerolinecolor\":\"white\",\"gridwidth\":2},\"zaxis\":{\"backgroundcolor\":\"#E5ECF6\",\"gridcolor\":\"white\",\"linecolor\":\"white\",\"showbackground\":true,\"ticks\":\"\",\"zerolinecolor\":\"white\",\"gridwidth\":2}},\"shapedefaults\":{\"line\":{\"color\":\"#2a3f5f\"}},\"annotationdefaults\":{\"arrowcolor\":\"#2a3f5f\",\"arrowhead\":0,\"arrowwidth\":1},\"geo\":{\"bgcolor\":\"white\",\"landcolor\":\"#E5ECF6\",\"subunitcolor\":\"white\",\"showland\":true,\"showlakes\":true,\"lakecolor\":\"white\"},\"title\":{\"x\":0.05},\"mapbox\":{\"style\":\"light\"}}},\"xaxis\":{\"anchor\":\"y\",\"domain\":[0.0,1.0],\"title\":{\"text\":\"Hair Color\"}},\"yaxis\":{\"anchor\":\"x\",\"domain\":[0.0,1.0],\"title\":{\"text\":\"count\"}},\"legend\":{\"tracegroupgap\":0},\"margin\":{\"t\":60},\"barmode\":\"relative\",\"title\":{\"text\":\"Histogram Hair Color in the Star Wars Universe\",\"x\":0.5},\"bargap\":0.1},                        {\"responsive\": true}                    ).then(function(){\n",
       "                            \n",
       "var gd = document.getElementById('d9a2dc58-2d42-44c4-8460-b86b4fc39059');\n",
       "var x = new MutationObserver(function (mutations, observer) {{\n",
       "        var display = window.getComputedStyle(gd).display;\n",
       "        if (!display || display === 'none') {{\n",
       "            console.log([gd, 'removed!']);\n",
       "            Plotly.purge(gd);\n",
       "            observer.disconnect();\n",
       "        }}\n",
       "}});\n",
       "\n",
       "// Listen for the removal of the full notebook cells\n",
       "var notebookContainer = gd.closest('#notebook-container');\n",
       "if (notebookContainer) {{\n",
       "    x.observe(notebookContainer, {childList: true});\n",
       "}}\n",
       "\n",
       "// Listen for the clearing of the current output cell\n",
       "var outputEl = gd.closest('.output');\n",
       "if (outputEl) {{\n",
       "    x.observe(outputEl, {childList: true});\n",
       "}}\n",
       "\n",
       "                        })                };                            </script>        </div>\n",
       "</body>\n",
       "</html>"
      ]
     },
     "metadata": {},
     "output_type": "display_data"
    }
   ],
   "source": [
    "fig = px.histogram(DF,\n",
    "                   x='hair_color',\n",
    "                   labels={'hair_color':'Hair Color'},\n",
    "                   opacity=0.8,\n",
    "                   color_discrete_sequence=['lightseagreen'])\n",
    "fig.update_layout(bargap=0.1, title=\n",
    "            'Histogram Hair Color in the Star Wars Universe',\n",
    "            title_x=0.5)\n",
    "fig.show()"
   ]
  },
  {
   "cell_type": "markdown",
   "id": "58d4ecfe-de4a-44c9-a332-ac6125633c39",
   "metadata": {},
   "source": [
    "The code below shows a histogram listing different hair col\n",
    "ors and the count of people in the series that have these hair colors. "
   ]
  },
  {
   "cell_type": "code",
   "execution_count": 15,
   "id": "83faf564-3892-46f3-a7a4-8009e1c78a78",
   "metadata": {},
   "outputs": [
    {
     "data": {
      "text/html": [
       "<html>\n",
       "<head><meta charset=\"utf-8\" /></head>\n",
       "<body>\n",
       "    <div>            <script src=\"https://cdnjs.cloudflare.com/ajax/libs/mathjax/2.7.5/MathJax.js?config=TeX-AMS-MML_SVG\"></script><script type=\"text/javascript\">if (window.MathJax && window.MathJax.Hub && window.MathJax.Hub.Config) {window.MathJax.Hub.Config({SVG: {font: \"STIX-Web\"}});}</script>                <script type=\"text/javascript\">window.PlotlyConfig = {MathJaxConfig: 'local'};</script>\n",
       "        <script charset=\"utf-8\" src=\"https://cdn.plot.ly/plotly-2.35.0.min.js\"></script>                <div id=\"03dd6693-a4d0-474d-9ced-e1e298faab14\" class=\"plotly-graph-div\" style=\"height:525px; width:100%;\"></div>            <script type=\"text/javascript\">                                    window.PLOTLYENV=window.PLOTLYENV || {};                                    if (document.getElementById(\"03dd6693-a4d0-474d-9ced-e1e298faab14\")) {                    Plotly.newPlot(                        \"03dd6693-a4d0-474d-9ced-e1e298faab14\",                        [{\"alignmentgroup\":\"True\",\"bingroup\":\"x\",\"hovertemplate\":\"eye Color=%{x}\\u003cbr\\u003ecount=%{y}\\u003cextra\\u003e\\u003c\\u002fextra\\u003e\",\"legendgroup\":\"\",\"marker\":{\"color\":\"burlywood\",\"opacity\":0.8,\"pattern\":{\"shape\":\"\"}},\"name\":\"\",\"offsetgroup\":\"\",\"orientation\":\"v\",\"showlegend\":false,\"x\":[\"blue\",\"yellow\",\"red\",\"yellow\",\"brown\",\"blue\",\"blue\",\"red\",\"brown\",\"blue-gray\",\"blue\",\"blue\",\"blue\",\"brown\",\"black\",\"orange\",\"hazel\",\"blue\",\"brown\",\"yellow\",\"brown\",\"red\",\"red\",\"brown\",\"blue\",\"orange\",\"blue\",\"brown\",\"brown\",\"black\",\"blue\",\"red\",\"blue\",\"brown\",\"orange\",\"orange\",\"orange\",\"blue\",\"yellow\",\"orange\",\"brown\",\"brown\",\"yellow\",\"pink\",\"hazel\",\"unknown\",\"yellow\",\"black\",\"orange\",\"brown\",\"yellow\",\"black\",\"brown\",\"blue\",\"orange\",\"yellow\",\"black\",\"blue\",\"brown\",\"brown\",\"blue\",\"yellow\",\"blue\",\"blue\",\"brown\",\"brown\",\"brown\",\"brown\",\"yellow\",\"yellow\",\"black\",\"black\",\"blue\",\"red, blue\",\"unknown\",\"gold\",\"black\",\"green, yellow\",\"blue\",\"brown\",\"white\",\"black\",\"dark\",\"hazel\",\"brown\",\"black\",\"unknown\"],\"xaxis\":\"x\",\"yaxis\":\"y\",\"type\":\"histogram\"}],                        {\"template\":{\"data\":{\"histogram2dcontour\":[{\"type\":\"histogram2dcontour\",\"colorbar\":{\"outlinewidth\":0,\"ticks\":\"\"},\"colorscale\":[[0.0,\"#0d0887\"],[0.1111111111111111,\"#46039f\"],[0.2222222222222222,\"#7201a8\"],[0.3333333333333333,\"#9c179e\"],[0.4444444444444444,\"#bd3786\"],[0.5555555555555556,\"#d8576b\"],[0.6666666666666666,\"#ed7953\"],[0.7777777777777778,\"#fb9f3a\"],[0.8888888888888888,\"#fdca26\"],[1.0,\"#f0f921\"]]}],\"choropleth\":[{\"type\":\"choropleth\",\"colorbar\":{\"outlinewidth\":0,\"ticks\":\"\"}}],\"histogram2d\":[{\"type\":\"histogram2d\",\"colorbar\":{\"outlinewidth\":0,\"ticks\":\"\"},\"colorscale\":[[0.0,\"#0d0887\"],[0.1111111111111111,\"#46039f\"],[0.2222222222222222,\"#7201a8\"],[0.3333333333333333,\"#9c179e\"],[0.4444444444444444,\"#bd3786\"],[0.5555555555555556,\"#d8576b\"],[0.6666666666666666,\"#ed7953\"],[0.7777777777777778,\"#fb9f3a\"],[0.8888888888888888,\"#fdca26\"],[1.0,\"#f0f921\"]]}],\"heatmap\":[{\"type\":\"heatmap\",\"colorbar\":{\"outlinewidth\":0,\"ticks\":\"\"},\"colorscale\":[[0.0,\"#0d0887\"],[0.1111111111111111,\"#46039f\"],[0.2222222222222222,\"#7201a8\"],[0.3333333333333333,\"#9c179e\"],[0.4444444444444444,\"#bd3786\"],[0.5555555555555556,\"#d8576b\"],[0.6666666666666666,\"#ed7953\"],[0.7777777777777778,\"#fb9f3a\"],[0.8888888888888888,\"#fdca26\"],[1.0,\"#f0f921\"]]}],\"heatmapgl\":[{\"type\":\"heatmapgl\",\"colorbar\":{\"outlinewidth\":0,\"ticks\":\"\"},\"colorscale\":[[0.0,\"#0d0887\"],[0.1111111111111111,\"#46039f\"],[0.2222222222222222,\"#7201a8\"],[0.3333333333333333,\"#9c179e\"],[0.4444444444444444,\"#bd3786\"],[0.5555555555555556,\"#d8576b\"],[0.6666666666666666,\"#ed7953\"],[0.7777777777777778,\"#fb9f3a\"],[0.8888888888888888,\"#fdca26\"],[1.0,\"#f0f921\"]]}],\"contourcarpet\":[{\"type\":\"contourcarpet\",\"colorbar\":{\"outlinewidth\":0,\"ticks\":\"\"}}],\"contour\":[{\"type\":\"contour\",\"colorbar\":{\"outlinewidth\":0,\"ticks\":\"\"},\"colorscale\":[[0.0,\"#0d0887\"],[0.1111111111111111,\"#46039f\"],[0.2222222222222222,\"#7201a8\"],[0.3333333333333333,\"#9c179e\"],[0.4444444444444444,\"#bd3786\"],[0.5555555555555556,\"#d8576b\"],[0.6666666666666666,\"#ed7953\"],[0.7777777777777778,\"#fb9f3a\"],[0.8888888888888888,\"#fdca26\"],[1.0,\"#f0f921\"]]}],\"surface\":[{\"type\":\"surface\",\"colorbar\":{\"outlinewidth\":0,\"ticks\":\"\"},\"colorscale\":[[0.0,\"#0d0887\"],[0.1111111111111111,\"#46039f\"],[0.2222222222222222,\"#7201a8\"],[0.3333333333333333,\"#9c179e\"],[0.4444444444444444,\"#bd3786\"],[0.5555555555555556,\"#d8576b\"],[0.6666666666666666,\"#ed7953\"],[0.7777777777777778,\"#fb9f3a\"],[0.8888888888888888,\"#fdca26\"],[1.0,\"#f0f921\"]]}],\"mesh3d\":[{\"type\":\"mesh3d\",\"colorbar\":{\"outlinewidth\":0,\"ticks\":\"\"}}],\"scatter\":[{\"fillpattern\":{\"fillmode\":\"overlay\",\"size\":10,\"solidity\":0.2},\"type\":\"scatter\"}],\"parcoords\":[{\"type\":\"parcoords\",\"line\":{\"colorbar\":{\"outlinewidth\":0,\"ticks\":\"\"}}}],\"scatterpolargl\":[{\"type\":\"scatterpolargl\",\"marker\":{\"colorbar\":{\"outlinewidth\":0,\"ticks\":\"\"}}}],\"bar\":[{\"error_x\":{\"color\":\"#2a3f5f\"},\"error_y\":{\"color\":\"#2a3f5f\"},\"marker\":{\"line\":{\"color\":\"#E5ECF6\",\"width\":0.5},\"pattern\":{\"fillmode\":\"overlay\",\"size\":10,\"solidity\":0.2}},\"type\":\"bar\"}],\"scattergeo\":[{\"type\":\"scattergeo\",\"marker\":{\"colorbar\":{\"outlinewidth\":0,\"ticks\":\"\"}}}],\"scatterpolar\":[{\"type\":\"scatterpolar\",\"marker\":{\"colorbar\":{\"outlinewidth\":0,\"ticks\":\"\"}}}],\"histogram\":[{\"marker\":{\"pattern\":{\"fillmode\":\"overlay\",\"size\":10,\"solidity\":0.2}},\"type\":\"histogram\"}],\"scattergl\":[{\"type\":\"scattergl\",\"marker\":{\"colorbar\":{\"outlinewidth\":0,\"ticks\":\"\"}}}],\"scatter3d\":[{\"type\":\"scatter3d\",\"line\":{\"colorbar\":{\"outlinewidth\":0,\"ticks\":\"\"}},\"marker\":{\"colorbar\":{\"outlinewidth\":0,\"ticks\":\"\"}}}],\"scattermapbox\":[{\"type\":\"scattermapbox\",\"marker\":{\"colorbar\":{\"outlinewidth\":0,\"ticks\":\"\"}}}],\"scatterternary\":[{\"type\":\"scatterternary\",\"marker\":{\"colorbar\":{\"outlinewidth\":0,\"ticks\":\"\"}}}],\"scattercarpet\":[{\"type\":\"scattercarpet\",\"marker\":{\"colorbar\":{\"outlinewidth\":0,\"ticks\":\"\"}}}],\"carpet\":[{\"aaxis\":{\"endlinecolor\":\"#2a3f5f\",\"gridcolor\":\"white\",\"linecolor\":\"white\",\"minorgridcolor\":\"white\",\"startlinecolor\":\"#2a3f5f\"},\"baxis\":{\"endlinecolor\":\"#2a3f5f\",\"gridcolor\":\"white\",\"linecolor\":\"white\",\"minorgridcolor\":\"white\",\"startlinecolor\":\"#2a3f5f\"},\"type\":\"carpet\"}],\"table\":[{\"cells\":{\"fill\":{\"color\":\"#EBF0F8\"},\"line\":{\"color\":\"white\"}},\"header\":{\"fill\":{\"color\":\"#C8D4E3\"},\"line\":{\"color\":\"white\"}},\"type\":\"table\"}],\"barpolar\":[{\"marker\":{\"line\":{\"color\":\"#E5ECF6\",\"width\":0.5},\"pattern\":{\"fillmode\":\"overlay\",\"size\":10,\"solidity\":0.2}},\"type\":\"barpolar\"}],\"pie\":[{\"automargin\":true,\"type\":\"pie\"}]},\"layout\":{\"autotypenumbers\":\"strict\",\"colorway\":[\"#636efa\",\"#EF553B\",\"#00cc96\",\"#ab63fa\",\"#FFA15A\",\"#19d3f3\",\"#FF6692\",\"#B6E880\",\"#FF97FF\",\"#FECB52\"],\"font\":{\"color\":\"#2a3f5f\"},\"hovermode\":\"closest\",\"hoverlabel\":{\"align\":\"left\"},\"paper_bgcolor\":\"white\",\"plot_bgcolor\":\"#E5ECF6\",\"polar\":{\"bgcolor\":\"#E5ECF6\",\"angularaxis\":{\"gridcolor\":\"white\",\"linecolor\":\"white\",\"ticks\":\"\"},\"radialaxis\":{\"gridcolor\":\"white\",\"linecolor\":\"white\",\"ticks\":\"\"}},\"ternary\":{\"bgcolor\":\"#E5ECF6\",\"aaxis\":{\"gridcolor\":\"white\",\"linecolor\":\"white\",\"ticks\":\"\"},\"baxis\":{\"gridcolor\":\"white\",\"linecolor\":\"white\",\"ticks\":\"\"},\"caxis\":{\"gridcolor\":\"white\",\"linecolor\":\"white\",\"ticks\":\"\"}},\"coloraxis\":{\"colorbar\":{\"outlinewidth\":0,\"ticks\":\"\"}},\"colorscale\":{\"sequential\":[[0.0,\"#0d0887\"],[0.1111111111111111,\"#46039f\"],[0.2222222222222222,\"#7201a8\"],[0.3333333333333333,\"#9c179e\"],[0.4444444444444444,\"#bd3786\"],[0.5555555555555556,\"#d8576b\"],[0.6666666666666666,\"#ed7953\"],[0.7777777777777778,\"#fb9f3a\"],[0.8888888888888888,\"#fdca26\"],[1.0,\"#f0f921\"]],\"sequentialminus\":[[0.0,\"#0d0887\"],[0.1111111111111111,\"#46039f\"],[0.2222222222222222,\"#7201a8\"],[0.3333333333333333,\"#9c179e\"],[0.4444444444444444,\"#bd3786\"],[0.5555555555555556,\"#d8576b\"],[0.6666666666666666,\"#ed7953\"],[0.7777777777777778,\"#fb9f3a\"],[0.8888888888888888,\"#fdca26\"],[1.0,\"#f0f921\"]],\"diverging\":[[0,\"#8e0152\"],[0.1,\"#c51b7d\"],[0.2,\"#de77ae\"],[0.3,\"#f1b6da\"],[0.4,\"#fde0ef\"],[0.5,\"#f7f7f7\"],[0.6,\"#e6f5d0\"],[0.7,\"#b8e186\"],[0.8,\"#7fbc41\"],[0.9,\"#4d9221\"],[1,\"#276419\"]]},\"xaxis\":{\"gridcolor\":\"white\",\"linecolor\":\"white\",\"ticks\":\"\",\"title\":{\"standoff\":15},\"zerolinecolor\":\"white\",\"automargin\":true,\"zerolinewidth\":2},\"yaxis\":{\"gridcolor\":\"white\",\"linecolor\":\"white\",\"ticks\":\"\",\"title\":{\"standoff\":15},\"zerolinecolor\":\"white\",\"automargin\":true,\"zerolinewidth\":2},\"scene\":{\"xaxis\":{\"backgroundcolor\":\"#E5ECF6\",\"gridcolor\":\"white\",\"linecolor\":\"white\",\"showbackground\":true,\"ticks\":\"\",\"zerolinecolor\":\"white\",\"gridwidth\":2},\"yaxis\":{\"backgroundcolor\":\"#E5ECF6\",\"gridcolor\":\"white\",\"linecolor\":\"white\",\"showbackground\":true,\"ticks\":\"\",\"zerolinecolor\":\"white\",\"gridwidth\":2},\"zaxis\":{\"backgroundcolor\":\"#E5ECF6\",\"gridcolor\":\"white\",\"linecolor\":\"white\",\"showbackground\":true,\"ticks\":\"\",\"zerolinecolor\":\"white\",\"gridwidth\":2}},\"shapedefaults\":{\"line\":{\"color\":\"#2a3f5f\"}},\"annotationdefaults\":{\"arrowcolor\":\"#2a3f5f\",\"arrowhead\":0,\"arrowwidth\":1},\"geo\":{\"bgcolor\":\"white\",\"landcolor\":\"#E5ECF6\",\"subunitcolor\":\"white\",\"showland\":true,\"showlakes\":true,\"lakecolor\":\"white\"},\"title\":{\"x\":0.05},\"mapbox\":{\"style\":\"light\"}}},\"xaxis\":{\"anchor\":\"y\",\"domain\":[0.0,1.0],\"title\":{\"text\":\"eye Color\"}},\"yaxis\":{\"anchor\":\"x\",\"domain\":[0.0,1.0],\"title\":{\"text\":\"count\"}},\"legend\":{\"tracegroupgap\":0},\"margin\":{\"t\":60},\"barmode\":\"relative\",\"title\":{\"text\":\"Histogram eye Color in the Star Wars Universe\",\"x\":0.5},\"bargap\":0.1},                        {\"responsive\": true}                    ).then(function(){\n",
       "                            \n",
       "var gd = document.getElementById('03dd6693-a4d0-474d-9ced-e1e298faab14');\n",
       "var x = new MutationObserver(function (mutations, observer) {{\n",
       "        var display = window.getComputedStyle(gd).display;\n",
       "        if (!display || display === 'none') {{\n",
       "            console.log([gd, 'removed!']);\n",
       "            Plotly.purge(gd);\n",
       "            observer.disconnect();\n",
       "        }}\n",
       "}});\n",
       "\n",
       "// Listen for the removal of the full notebook cells\n",
       "var notebookContainer = gd.closest('#notebook-container');\n",
       "if (notebookContainer) {{\n",
       "    x.observe(notebookContainer, {childList: true});\n",
       "}}\n",
       "\n",
       "// Listen for the clearing of the current output cell\n",
       "var outputEl = gd.closest('.output');\n",
       "if (outputEl) {{\n",
       "    x.observe(outputEl, {childList: true});\n",
       "}}\n",
       "\n",
       "                        })                };                            </script>        </div>\n",
       "</body>\n",
       "</html>"
      ]
     },
     "metadata": {},
     "output_type": "display_data"
    }
   ],
   "source": [
    "fig = px.histogram(DF,\n",
    "                   x='eye_color',\n",
    "                   labels={'eye_color':'eye Color'},\n",
    "                   opacity=0.8,\n",
    "                   color_discrete_sequence=['burlywood'])\n",
    "fig.update_layout(bargap=0.1, title=\n",
    "            'Histogram eye Color in the Star Wars Universe',\n",
    "            title_x=0.5)\n",
    "fig.show()"
   ]
  },
  {
   "cell_type": "code",
   "execution_count": null,
   "id": "cf920fd7-c49d-4439-aaff-464c4f7e73cd",
   "metadata": {},
   "outputs": [],
   "source": []
  }
 ],
 "metadata": {
  "kernelspec": {
   "display_name": "Python 3 (ipykernel)",
   "language": "python",
   "name": "python3"
  },
  "language_info": {
   "codemirror_mode": {
    "name": "ipython",
    "version": 3
   },
   "file_extension": ".py",
   "mimetype": "text/x-python",
   "name": "python",
   "nbconvert_exporter": "python",
   "pygments_lexer": "ipython3",
   "version": "3.12.2"
  }
 },
 "nbformat": 4,
 "nbformat_minor": 5
}
